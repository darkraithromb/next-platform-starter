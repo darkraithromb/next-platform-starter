{
  "nbformat": 4,
  "nbformat_minor": 0,
  "metadata": {
    "colab": {
      "provenance": [],
      "authorship_tag": "ABX9TyMnnccQDaBSa3p0oSn8YXG8",
      "include_colab_link": true
    },
    "kernelspec": {
      "name": "python3",
      "display_name": "Python 3"
    },
    "language_info": {
      "name": "python"
    }
  },
  "cells": [
    {
      "cell_type": "markdown",
      "metadata": {
        "id": "view-in-github",
        "colab_type": "text"
      },
      "source": [
        "<a href=\"https://colab.research.google.com/github/darkraithromb/next-platform-starter/blob/main/complexity_analyzer.ipynb\" target=\"_parent\"><img src=\"https://colab.research.google.com/assets/colab-badge.svg\" alt=\"Open In Colab\"/></a>"
      ]
    },
    {
      "cell_type": "code",
      "source": [
        "import numpy as np\n",
        "import subprocess\n",
        "import os\n",
        "import time\n",
        "import matplotlib.pyplot as plt\n",
        "from scipy.optimize import curve_fit\n"
      ],
      "metadata": {
        "id": "Ti-reu98YrCF"
      },
      "execution_count": 12,
      "outputs": []
    },
    {
      "cell_type": "code",
      "source": [
        "def constant(n, a):\n",
        "    return a\n",
        "\n",
        "def logarithmic(n, a, b):\n",
        "    return a * np.log(n) + b\n",
        "\n",
        "def linear(n, a, b):\n",
        "    return a * n + b\n",
        "\n",
        "def linearithmic(n, a, b):\n",
        "    return a * n * np.log(n) + b\n",
        "\n",
        "def quadratic(n, a, b):\n",
        "    return a * n**2 + b\n"
      ],
      "metadata": {
        "id": "lrFhxhSeYpnt"
      },
      "execution_count": 13,
      "outputs": []
    },
    {
      "cell_type": "code",
      "source": [
        "import numpy as np\n",
        "import subprocess\n",
        "import os\n",
        "import time\n",
        "import matplotlib.pyplot as plt\n",
        "from scipy.optimize import curve_fit\n",
        "\n",
        "def run_java_with_input_sizes(java_file_path, input_sizes):\n",
        "    # Get the directory and the file name without the extension\n",
        "    directory, filename = os.path.split(java_file_path)\n",
        "    classname = filename.split('.')[0]\n",
        "\n",
        "    times = []\n",
        "\n",
        "    try:\n",
        "        # Change the current directory to where the Java file is located\n",
        "        os.chdir(directory)\n",
        "\n",
        "        # Compile the Java file\n",
        "        compile_result = subprocess.run(['javac', filename], capture_output=True, text=True)\n",
        "\n",
        "        if compile_result.returncode != 0:\n",
        "            print(f\"Compilation failed:\\n{compile_result.stderr}\")\n",
        "            return\n",
        "\n",
        "        for n in input_sizes:\n",
        "            start_time = time.time()\n",
        "\n",
        "            # Run the compiled Java class with input size n\n",
        "            run_result = subprocess.run(['java', classname, str(n)], capture_output=True, text=True)\n",
        "\n",
        "            end_time = time.time()\n",
        "            execution_time = end_time - start_time\n",
        "            times.append(execution_time)\n",
        "\n",
        "            if run_result.returncode != 0:\n",
        "                print(f\"Execution failed for input size {n}:\\n{run_result.stderr}\")\n",
        "            else:\n",
        "                print(f\"Execution output for input size {n}:\\n{run_result.stdout}\")\n",
        "\n",
        "        # Convert input sizes and times to numpy arrays\n",
        "        input_sizes_np = np.array(input_sizes)\n",
        "        times_np = np.array(times)\n",
        "\n",
        "        # Fit different complexity models\n",
        "        popt_const, _ = curve_fit(constant, input_sizes_np, times_np)\n",
        "        popt_log, _ = curve_fit(logarithmic, input_sizes_np, times_np)\n",
        "        popt_lin, _ = curve_fit(linear, input_sizes_np, times_np)\n",
        "        popt_linlog, _ = curve_fit(linearithmic, input_sizes_np, times_np)\n",
        "        popt_quad, _ = curve_fit(quadratic, input_sizes_np, times_np)\n",
        "\n",
        "        # Calculate residuals for each model\n",
        "        residuals_const = np.sum((times_np - constant(input_sizes_np, *popt_const))**2)\n",
        "        residuals_log = np.sum((times_np - logarithmic(input_sizes_np, *popt_log))**2)\n",
        "        residuals_lin = np.sum((times_np - linear(input_sizes_np, *popt_lin))**2)\n",
        "        residuals_linlog = np.sum((times_np - linearithmic(input_sizes_np, *popt_linlog))**2)\n",
        "        residuals_quad = np.sum((times_np - quadratic(input_sizes_np, *popt_quad))**2)\n",
        "\n",
        "        # Determine the best fit\n",
        "        residuals = {\n",
        "            'O(1)': residuals_const,\n",
        "            'O(log n)': residuals_log,\n",
        "            'O(n)': residuals_lin,\n",
        "            'O(n log n)': residuals_linlog,\n",
        "            'O(n^2)': residuals_quad\n",
        "        }\n",
        "        best_fit = min(residuals, key=residuals.get)\n",
        "\n",
        "        # Plotting the results\n",
        "        plt.plot(input_sizes, times, marker='o', label='Observed')\n",
        "        plt.plot(input_sizes, constant(input_sizes_np, *popt_const), label='O(1)', linestyle='dashed')\n",
        "        plt.plot(input_sizes, logarithmic(input_sizes_np, *popt_log), label='O(log n)', linestyle='dashed')\n",
        "        plt.plot(input_sizes, linear(input_sizes_np, *popt_lin), label='O(n)', linestyle='dashed')\n",
        "        plt.plot(input_sizes, linearithmic(input_sizes_np, *popt_linlog), label='O(n log n)', linestyle='dashed')\n",
        "        plt.plot(input_sizes, quadratic(input_sizes_np, *popt_quad), label='O(n^2)', linestyle='dashed')\n",
        "\n",
        "        plt.title(f'Execution Time vs Input Size (Best fit: {best_fit})')\n",
        "        plt.xlabel('Input Size (n)')\n",
        "        plt.ylabel('Execution Time (seconds)')\n",
        "        plt.legend()\n",
        "        plt.grid(True)\n",
        "        plt.show()\n",
        "\n",
        "        return best_fit\n",
        "\n",
        "    except Exception as e:\n",
        "        print(f\"An error occurred: {e}\")\n",
        "        return None\n",
        "\n",
        "# Example usage\n",
        "java_file = '/content/Quick.java'\n",
        "input_sizes = [10, 100, 1000, 10000, 50000]  # Different input sizes\n",
        "best_complexity = run_java_with_input_sizes(java_file, input_sizes)\n",
        "print(f\"The best-fit time complexity is: {best_complexity}\")\n"
      ],
      "metadata": {
        "colab": {
          "base_uri": "https://localhost:8080/",
          "height": 1000
        },
        "id": "TOk9CvdbYrty",
        "outputId": "d2619fe6-1507-4fc7-f47c-c81bcea66d44"
      },
      "execution_count": 15,
      "outputs": [
        {
          "output_type": "stream",
          "name": "stdout",
          "text": [
            "Execution output for input size 10:\n",
            "\n",
            "Before sorting array elements are - \n",
            "13 18 27 2 19 25 \n",
            "After sorting array elements are - \n",
            "2 13 18 19 25 27 \n",
            "\n",
            "Execution output for input size 100:\n",
            "\n",
            "Before sorting array elements are - \n",
            "13 18 27 2 19 25 \n",
            "After sorting array elements are - \n",
            "2 13 18 19 25 27 \n",
            "\n",
            "Execution output for input size 1000:\n",
            "\n",
            "Before sorting array elements are - \n",
            "13 18 27 2 19 25 \n",
            "After sorting array elements are - \n",
            "2 13 18 19 25 27 \n",
            "\n",
            "Execution output for input size 10000:\n",
            "\n",
            "Before sorting array elements are - \n",
            "13 18 27 2 19 25 \n",
            "After sorting array elements are - \n",
            "2 13 18 19 25 27 \n",
            "\n",
            "Execution output for input size 50000:\n",
            "\n",
            "Before sorting array elements are - \n",
            "13 18 27 2 19 25 \n",
            "After sorting array elements are - \n",
            "2 13 18 19 25 27 \n",
            "\n",
            "An error occurred: x and y must have same first dimension, but have shapes (5,) and (1,)\n",
            "The best-fit time complexity is: None\n"
          ]
        },
        {
          "output_type": "display_data",
          "data": {
            "text/plain": [
              "<Figure size 640x480 with 1 Axes>"
            ],
            "image/png": "[encoded data removed]"
          },
          "metadata": {}
        }
      ]
    },
    {
      "cell_type": "code",
      "execution_count": null,
      "metadata": {
        "id": "R9_GjBRPYTLR"
      },
      "outputs": [],
      "source": []
    }
  ]
}